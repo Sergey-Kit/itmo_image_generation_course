{
  "metadata": {
    "kernelspec": {
      "language": "python",
      "display_name": "Python 3",
      "name": "python3"
    },
    "language_info": {
      "name": "python",
      "version": "3.7.6",
      "mimetype": "text/x-python",
      "codemirror_mode": {
        "name": "ipython",
        "version": 3
      },
      "pygments_lexer": "ipython3",
      "nbconvert_exporter": "python",
      "file_extension": ".py"
    },
    "kaggle": {
      "accelerator": "gpu",
      "dataSources": [
        {
          "sourceId": 407317,
          "sourceType": "datasetVersion",
          "datasetId": 181273
        }
      ],
      "dockerImageVersionId": 29908,
      "isInternetEnabled": true,
      "language": "python",
      "sourceType": "notebook",
      "isGpuEnabled": true
    },
    "colab": {
      "provenance": [],
      "include_colab_link": true
    }
  },
  "nbformat_minor": 0,
  "nbformat": 4,
  "cells": [
    {
      "cell_type": "markdown",
      "metadata": {
        "id": "view-in-github",
        "colab_type": "text"
      },
      "source": [
        "<a href=\"https://colab.research.google.com/github/Sergey-Kit/itmo_image_generation_course/blob/homework_1/tumor_unet_fpn_outer.ipynb\" target=\"_parent\"><img src=\"https://colab.research.google.com/assets/colab-badge.svg\" alt=\"Open In Colab\"/></a>"
      ]
    },
    {
      "cell_type": "markdown",
      "source": [
        "# Сегментация изображения Unet и Feature Pyramid Network."
      ],
      "metadata": {
        "id": "mDPoYn2-vd7D"
      }
    },
    {
      "cell_type": "code",
      "source": [
        "import sys\n",
        "import os\n",
        "import glob\n",
        "import random\n",
        "import time\n",
        "\n",
        "import numpy as np\n",
        "import pandas as pd\n",
        "\n",
        "from tqdm import tqdm\n",
        "import cv2\n",
        "import matplotlib.pyplot as plt"
      ],
      "metadata": {
        "execution": {
          "iopub.status.busy": "2024-01-10T18:17:45.582386Z",
          "iopub.execute_input": "2024-01-10T18:17:45.582760Z",
          "iopub.status.idle": "2024-01-10T18:17:45.587896Z",
          "shell.execute_reply.started": "2024-01-10T18:17:45.582710Z",
          "shell.execute_reply": "2024-01-10T18:17:45.586837Z"
        },
        "trusted": true,
        "id": "qh5KvYmZvd7H"
      },
      "execution_count": null,
      "outputs": []
    },
    {
      "cell_type": "code",
      "source": [
        "# Path to all data\n",
        "DATA_PATH = \"/kaggle_3m/\"\n",
        "\n",
        "BASE_LEN = 89\n",
        "END_IMG_LEN = 4\n",
        "END_MASK_LEN = 9\n",
        "IMG_SIZE = 512"
      ],
      "metadata": {
        "execution": {
          "iopub.status.busy": "2024-01-10T17:54:49.347115Z",
          "iopub.execute_input": "2024-01-10T17:54:49.347469Z",
          "iopub.status.idle": "2024-01-10T17:54:49.351968Z",
          "shell.execute_reply.started": "2024-01-10T17:54:49.347421Z",
          "shell.execute_reply": "2024-01-10T17:54:49.350884Z"
        },
        "trusted": true,
        "id": "g1nNFLVTvd7J"
      },
      "execution_count": null,
      "outputs": []
    },
    {
      "cell_type": "markdown",
      "source": [
        "## Подготовка данных и аугментация"
      ],
      "metadata": {
        "id": "jcv6oJAkvd7K"
      }
    },
    {
      "cell_type": "code",
      "source": [
        "data_map = []\n",
        "for sub_dir_path in glob.glob(DATA_PATH+\"*\"):\n",
        "    if os.path.isdir(sub_dir_path):\n",
        "        dirname = sub_dir_path.split(\"/\")[-1]\n",
        "        for filename in os.listdir(sub_dir_path):\n",
        "            image_path = sub_dir_path + \"/\" + filename\n",
        "            data_map.extend([dirname, image_path])\n",
        "    else:\n",
        "        print(\"This is not a dir:\", sub_dir_path)\n",
        "\n",
        "\n",
        "df = pd.DataFrame({\"dirname\" : data_map[::2],\n",
        "                  \"path\" : data_map[1::2]})\n",
        "df.head()"
      ],
      "metadata": {
        "trusted": true,
        "id": "1WL40wzbvd7K"
      },
      "execution_count": null,
      "outputs": []
    },
    {
      "cell_type": "code",
      "source": [
        "df_imgs = df[~df['path'].str.contains(\"mask\")]\n",
        "df_masks = df[df['path'].str.contains(\"mask\")]\n",
        "\n",
        "imgs = sorted(df_imgs[\"path\"].values, key=lambda x : int(x[BASE_LEN:-END_IMG_LEN]))\n",
        "masks = sorted(df_masks[\"path\"].values, key=lambda x : int(x[BASE_LEN:-END_MASK_LEN]))\n",
        "\n",
        "idx = random.randint(0, len(imgs)-1)\n",
        "print(\"Path to the Image:\", imgs[idx], \"\\nPath to the Mask:\", masks[idx])"
      ],
      "metadata": {
        "trusted": true,
        "id": "0Jydyadqvd7L"
      },
      "execution_count": null,
      "outputs": []
    },
    {
      "cell_type": "code",
      "source": [
        "df = pd.DataFrame({\"patient\": df_imgs.dirname.values,\n",
        "                       \"image_path\": imgs,\n",
        "                   \"mask_path\": masks})\n",
        "\n",
        "def positiv_negativ_diagnosis(mask_path):\n",
        "    value = np.max(cv2.imread(mask_path))\n",
        "    if value > 0 : return 1\n",
        "    else: return 0\n",
        "\n",
        "df[\"diagnosis\"] = df[\"mask_path\"].apply(lambda m: positiv_negativ_diagnosis(m))\n",
        "df"
      ],
      "metadata": {
        "trusted": true,
        "id": "zcg4kNpqvd7L"
      },
      "execution_count": null,
      "outputs": []
    },
    {
      "cell_type": "code",
      "source": [
        "sample_df = df[df[\"diagnosis\"] == 1].sample(1).values\n",
        "\n",
        "img = cv2.resize(cv2.imread(sample_df[0][1]), (IMG_SIZE, IMG_SIZE))\n",
        "mask = cv2.resize(cv2.imread(sample_df[0][2]), (IMG_SIZE, IMG_SIZE))\n",
        "sample_imgs.extend([img, mask])\n",
        "\n",
        "plt.subplot(1, 2, 1)\n",
        "plt.imshow(img)\n",
        "plt.title('Image')\n",
        "\n",
        "plt.subplot(1, 2, 2)\n",
        "plt.imshow(mask, cmap='gray')\n",
        "plt.title('Mask')\n",
        "\n",
        "plt.show()"
      ],
      "metadata": {
        "execution": {
          "iopub.status.busy": "2024-01-10T18:03:54.185208Z",
          "iopub.execute_input": "2024-01-10T18:03:54.185572Z",
          "iopub.status.idle": "2024-01-10T18:03:54.528995Z",
          "shell.execute_reply.started": "2024-01-10T18:03:54.185525Z",
          "shell.execute_reply": "2024-01-10T18:03:54.528162Z"
        },
        "trusted": true,
        "id": "r2LVIlS_vd7L",
        "outputId": "c10886c7-fb24-4ac0-f3dc-779cef9c2965"
      },
      "execution_count": null,
      "outputs": [
        {
          "output_type": "display_data",
          "data": {
            "text/plain": "<Figure size 432x288 with 2 Axes>",
            "image/png": "[encoded data removed]"
          },
          "metadata": {}
        }
      ]
    },
    {
      "cell_type": "code",
      "source": [
        "import torch\n",
        "import torch.nn as nn\n",
        "import torch.nn.functional as F\n",
        "from torch.utils.data import Dataset, DataLoader\n",
        "\n",
        "import albumentations as A\n",
        "from albumentations.pytorch import ToTensor, ToTensorV2\n",
        "\n",
        "from sklearn.model_selection import train_test_split"
      ],
      "metadata": {
        "execution": {
          "iopub.status.busy": "2024-01-10T18:04:43.892440Z",
          "iopub.execute_input": "2024-01-10T18:04:43.892847Z",
          "iopub.status.idle": "2024-01-10T18:04:46.340839Z",
          "shell.execute_reply.started": "2024-01-10T18:04:43.892792Z",
          "shell.execute_reply": "2024-01-10T18:04:46.339834Z"
        },
        "trusted": true,
        "id": "ZWsrFgXgvd7N"
      },
      "execution_count": null,
      "outputs": []
    },
    {
      "cell_type": "code",
      "source": [
        "device = torch.device('cuda:0' if torch.cuda.is_available() else 'cpu')"
      ],
      "metadata": {
        "execution": {
          "iopub.status.busy": "2024-01-10T18:04:46.811108Z",
          "iopub.execute_input": "2024-01-10T18:04:46.811512Z",
          "iopub.status.idle": "2024-01-10T18:04:46.837320Z",
          "shell.execute_reply.started": "2024-01-10T18:04:46.811459Z",
          "shell.execute_reply": "2024-01-10T18:04:46.836418Z"
        },
        "trusted": true,
        "id": "iayaGARGvd7N"
      },
      "execution_count": null,
      "outputs": []
    },
    {
      "cell_type": "code",
      "source": [
        "class BrainMriDataset(Dataset):\n",
        "    def __init__(self, df, transforms):\n",
        "\n",
        "        self.df = df\n",
        "        self.transforms = transforms\n",
        "\n",
        "    def __len__(self):\n",
        "        return len(self.df)\n",
        "\n",
        "    def __getitem__(self, idx):\n",
        "        image = cv2.imread(self.df.iloc[idx, 1])\n",
        "        mask = cv2.imread(self.df.iloc[idx, 2], 0)\n",
        "\n",
        "        augmented = self.transforms(image=image,\n",
        "                                    mask=mask)\n",
        "\n",
        "        image = augmented['image']\n",
        "        mask = augmented['mask']\n",
        "\n",
        "        return image, mask"
      ],
      "metadata": {
        "execution": {
          "iopub.status.busy": "2024-01-10T18:05:03.587705Z",
          "iopub.execute_input": "2024-01-10T18:05:03.588059Z",
          "iopub.status.idle": "2024-01-10T18:05:03.596438Z",
          "shell.execute_reply.started": "2024-01-10T18:05:03.588016Z",
          "shell.execute_reply": "2024-01-10T18:05:03.595549Z"
        },
        "trusted": true,
        "id": "wzn2Pncxvd7N"
      },
      "execution_count": null,
      "outputs": []
    },
    {
      "cell_type": "code",
      "source": [
        "PATCH_SIZE = 128#256\n",
        "\n",
        "strong_transforms = A.Compose([\n",
        "    A.RandomResizedCrop(width = PATCH_SIZE, height = PATCH_SIZE, p=1.0),\n",
        "    A.HorizontalFlip(p=0.5),\n",
        "    A.VerticalFlip(p=0.5),\n",
        "    A.RandomRotate90(p=0.5),\n",
        "    A.Transpose(p=0.5),\n",
        "    A.ShiftScaleRotate(shift_limit=0.01, scale_limit=0.04, rotate_limit=0, p=0.25),\n",
        "\n",
        "    # Pixels\n",
        "    A.RandomBrightnessContrast(p=0.5),\n",
        "    A.RandomGamma(p=0.25),\n",
        "    A.IAAEmboss(p=0.25),\n",
        "    A.Blur(p=0.01, blur_limit = 3),\n",
        "\n",
        "    # Affine\n",
        "    A.OneOf([\n",
        "        A.ElasticTransform(p=0.5, alpha=120, sigma=120 * 0.05, alpha_affine=120 * 0.03),\n",
        "        A.GridDistortion(p=0.5),\n",
        "        A.OpticalDistortion(p=1, distort_limit=2, shift_limit=0.5)\n",
        "    ], p=0.8),\n",
        "\n",
        "\n",
        "    A.Normalize(p=1.0),\n",
        "    ToTensor(),\n",
        "])\n",
        "\n",
        "\n",
        "transforms = A.Compose([\n",
        "    A.Resize(width = PATCH_SIZE, height = PATCH_SIZE, p=1.0),\n",
        "    A.HorizontalFlip(p=0.5),\n",
        "    A.VerticalFlip(p=0.5),\n",
        "    A.RandomRotate90(p=0.5),\n",
        "    A.Transpose(p=0.5),\n",
        "    A.ShiftScaleRotate(shift_limit=0.01, scale_limit=0.04, rotate_limit=0, p=0.25),\n",
        "\n",
        "\n",
        "\n",
        "    A.Normalize(p=1.0),\n",
        "    ToTensor(),\n",
        "])"
      ],
      "metadata": {
        "execution": {
          "iopub.status.busy": "2024-01-10T18:05:32.551562Z",
          "iopub.execute_input": "2024-01-10T18:05:32.551980Z",
          "iopub.status.idle": "2024-01-10T18:05:32.566382Z",
          "shell.execute_reply.started": "2024-01-10T18:05:32.551916Z",
          "shell.execute_reply": "2024-01-10T18:05:32.565467Z"
        },
        "trusted": true,
        "id": "RYNyqyuevd7O"
      },
      "execution_count": null,
      "outputs": []
    },
    {
      "cell_type": "code",
      "source": [
        "train_df, val_df = train_test_split(df, stratify=df.diagnosis, test_size=0.1)\n",
        "train_df = train_df.reset_index(drop=True)\n",
        "val_df = val_df.reset_index(drop=True)\n",
        "\n",
        "train_df, test_df = train_test_split(train_df, stratify=train_df.diagnosis, test_size=0.15)\n",
        "train_df = train_df.reset_index(drop=True)\n",
        "\n",
        "#train_df = train_df[:1000]\n",
        "print(f\"Train: {train_df.shape} \\nVal: {val_df.shape} \\nTest: {test_df.shape}\")"
      ],
      "metadata": {
        "execution": {
          "iopub.status.busy": "2024-01-10T18:05:43.438963Z",
          "iopub.execute_input": "2024-01-10T18:05:43.439349Z",
          "iopub.status.idle": "2024-01-10T18:05:43.460037Z",
          "shell.execute_reply.started": "2024-01-10T18:05:43.439289Z",
          "shell.execute_reply": "2024-01-10T18:05:43.459146Z"
        },
        "trusted": true,
        "id": "DBJNmIiMvd7O",
        "outputId": "c29bd282-160c-44f0-a958-c4d5fed6f2f7"
      },
      "execution_count": null,
      "outputs": [
        {
          "name": "stdout",
          "text": "Train: (3005, 4) \nVal: (393, 4) \nTest: (531, 4)\n",
          "output_type": "stream"
        }
      ]
    },
    {
      "cell_type": "code",
      "source": [
        "# train\n",
        "train_dataset = BrainMriDataset(df=train_df, transforms=transforms)\n",
        "train_dataloader = DataLoader(train_dataset, batch_size=26, num_workers=4, shuffle=True)\n",
        "\n",
        "# val\n",
        "val_dataset = BrainMriDataset(df=val_df, transforms=transforms)\n",
        "val_dataloader = DataLoader(val_dataset, batch_size=26, num_workers=4, shuffle=True)\n",
        "\n",
        "#test\n",
        "test_dataset = BrainMriDataset(df=test_df, transforms=transforms)\n",
        "test_dataloader = DataLoader(test_dataset, batch_size=26, num_workers=4, shuffle=True)"
      ],
      "metadata": {
        "execution": {
          "iopub.status.busy": "2024-01-10T18:05:54.125319Z",
          "iopub.execute_input": "2024-01-10T18:05:54.125711Z",
          "iopub.status.idle": "2024-01-10T18:05:54.132578Z",
          "shell.execute_reply.started": "2024-01-10T18:05:54.125651Z",
          "shell.execute_reply": "2024-01-10T18:05:54.131756Z"
        },
        "trusted": true,
        "id": "lGN_mFbrvd7O"
      },
      "execution_count": null,
      "outputs": []
    },
    {
      "cell_type": "markdown",
      "source": [
        "## UNet"
      ],
      "metadata": {
        "id": "8jFzob_Uvd7P"
      }
    },
    {
      "cell_type": "markdown",
      "source": [
        "<p>\n",
        "    <img src=\"https://miro.medium.com/max/1400/1*f7YOaE4TWubwaFF7Z1fzNw.png\" width=\"650\" height=\"300\">\n",
        "</p>"
      ],
      "metadata": {
        "id": "XL3eTyp8vd7P"
      }
    },
    {
      "cell_type": "code",
      "source": [
        "def double_conv(in_channels, out_channels):\n",
        "    return nn.Sequential(\n",
        "        nn.Conv2d(in_channels, out_channels, 3, padding=1),\n",
        "        nn.ReLU(inplace=True),\n",
        "        nn.Conv2d(out_channels, out_channels, 3, padding=1),\n",
        "        nn.ReLU(inplace=True))"
      ],
      "metadata": {
        "execution": {
          "iopub.status.busy": "2024-01-10T18:06:52.779067Z",
          "iopub.execute_input": "2024-01-10T18:06:52.779485Z",
          "iopub.status.idle": "2024-01-10T18:06:52.785499Z",
          "shell.execute_reply.started": "2024-01-10T18:06:52.779418Z",
          "shell.execute_reply": "2024-01-10T18:06:52.784227Z"
        },
        "trusted": true,
        "id": "gISh969Uvd7P"
      },
      "execution_count": null,
      "outputs": []
    },
    {
      "cell_type": "code",
      "source": [
        "class UNet(nn.Module):\n",
        "\n",
        "    def __init__(self, n_classes):\n",
        "        super().__init__()\n",
        "\n",
        "        self.conv_down1 = double_conv(3, 64)\n",
        "        self.conv_down2 = double_conv(64, 128)\n",
        "        self.conv_down3 = double_conv(128, 256)\n",
        "        self.conv_down4 = double_conv(256, 512)\n",
        "\n",
        "        self.maxpool = nn.MaxPool2d(2)\n",
        "        self.upsample = nn.Upsample(scale_factor=2, mode='bilinear', align_corners=True)\n",
        "\n",
        "        self.conv_up3 = double_conv(256 + 512, 256)\n",
        "        self.conv_up2 = double_conv(128 + 256, 128)\n",
        "        self.conv_up1 = double_conv(128 + 64, 64)\n",
        "\n",
        "        self.last_conv = nn.Conv2d(64, n_classes, kernel_size=1)\n",
        "\n",
        "\n",
        "    def forward(self, x):\n",
        "        conv1 = self.conv_down1(x)\n",
        "        x = self.maxpool(conv1)\n",
        "        conv2 = self.conv_down2(x)\n",
        "        x = self.maxpool(conv2)\n",
        "        conv3 = self.conv_down3(x)\n",
        "        x = self.maxpool(conv3)\n",
        "        x = self.conv_down4(x)\n",
        "        x = self.upsample(x)\n",
        "\n",
        "        x = torch.cat([x, conv3], dim=1)\n",
        "\n",
        "        x = self.conv_up3(x)\n",
        "        x = self.upsample(x)\n",
        "        x = torch.cat([x, conv2], dim=1)\n",
        "\n",
        "        x = self.conv_up2(x)\n",
        "        x = self.upsample(x)\n",
        "        x = torch.cat([x, conv1], dim=1)\n",
        "\n",
        "        x = self.conv_up1(x)\n",
        "\n",
        "        out = self.last_conv(x)\n",
        "        out = torch.sigmoid(out)\n",
        "\n",
        "        return out"
      ],
      "metadata": {
        "execution": {
          "iopub.status.busy": "2024-01-10T18:07:41.924173Z",
          "iopub.execute_input": "2024-01-10T18:07:41.924527Z",
          "iopub.status.idle": "2024-01-10T18:07:41.940151Z",
          "shell.execute_reply.started": "2024-01-10T18:07:41.924483Z",
          "shell.execute_reply": "2024-01-10T18:07:41.939147Z"
        },
        "trusted": true,
        "id": "NlqRCZ0rvd7P"
      },
      "execution_count": null,
      "outputs": []
    },
    {
      "cell_type": "code",
      "source": [
        "unet = UNet(n_classes=1).to(device)\n",
        "output = unet(torch.randn(1,3,256,256).to(device))\n",
        "print(\"\",output.shape)"
      ],
      "metadata": {
        "execution": {
          "iopub.status.busy": "2024-01-10T18:07:44.488574Z",
          "iopub.execute_input": "2024-01-10T18:07:44.488966Z",
          "iopub.status.idle": "2024-01-10T18:07:48.501660Z",
          "shell.execute_reply.started": "2024-01-10T18:07:44.488905Z",
          "shell.execute_reply": "2024-01-10T18:07:48.500759Z"
        },
        "trusted": true,
        "id": "_NtAXXoMvd7P",
        "outputId": "d430fb7a-84ea-41d7-b331-d47c37959a62"
      },
      "execution_count": null,
      "outputs": [
        {
          "name": "stdout",
          "text": " torch.Size([1, 1, 256, 256])\n",
          "output_type": "stream"
        }
      ]
    },
    {
      "cell_type": "markdown",
      "source": [
        "## Feature Pyramid Network + UNet"
      ],
      "metadata": {
        "id": "Vnlavj-qvd7Q"
      }
    },
    {
      "cell_type": "code",
      "source": [
        "class ConvReluUpsample(nn.Module):\n",
        "    def __init__(self, in_channels, out_channels, upsample=False):\n",
        "        super().__init__()\n",
        "        self.upsample = upsample\n",
        "        self.make_upsample = nn.Upsample(scale_factor=2, mode='bilinear', align_corners=True)\n",
        "\n",
        "        self.block = nn.Sequential(\n",
        "            nn.Conv2d(\n",
        "                in_channels, out_channels, (3, 3), stride=1, padding=1, bias=False\n",
        "            ),\n",
        "            nn.GroupNorm(32, out_channels),\n",
        "            nn.ReLU(inplace=True),\n",
        "        )\n",
        "\n",
        "    def forward(self, x):\n",
        "        x = self.block(x)\n",
        "        if self.upsample:\n",
        "            x = self.make_upsample(x)\n",
        "        return x\n",
        "\n",
        "\n",
        "\n",
        "class SegmentationBlock(nn.Module):\n",
        "    def __init__(self, in_channels, out_channels, n_upsamples=0):\n",
        "        super().__init__()\n",
        "\n",
        "        blocks = [ConvReluUpsample(in_channels, out_channels, upsample=bool(n_upsamples))]\n",
        "\n",
        "        if n_upsamples > 1:\n",
        "            for _ in range(1, n_upsamples):\n",
        "                blocks.append(ConvReluUpsample(out_channels, out_channels, upsample=True))\n",
        "\n",
        "        self.block = nn.Sequential(*blocks)\n",
        "\n",
        "    def forward(self, x):\n",
        "        return self.block(x)"
      ],
      "metadata": {
        "execution": {
          "iopub.status.busy": "2024-01-10T18:08:04.306733Z",
          "iopub.execute_input": "2024-01-10T18:08:04.307112Z",
          "iopub.status.idle": "2024-01-10T18:08:04.320935Z",
          "shell.execute_reply.started": "2024-01-10T18:08:04.307053Z",
          "shell.execute_reply": "2024-01-10T18:08:04.319759Z"
        },
        "trusted": true,
        "id": "trt372sovd7Q"
      },
      "execution_count": null,
      "outputs": []
    },
    {
      "cell_type": "code",
      "source": [
        "class FPN(nn.Module):\n",
        "\n",
        "    def __init__(self, n_classes=1,\n",
        "                 pyramid_channels=256,\n",
        "                 segmentation_channels=256):\n",
        "        super().__init__()\n",
        "\n",
        "        # Bottom-up layers\n",
        "        self.conv_down1 = double_conv(3, 64)\n",
        "        self.conv_down2 = double_conv(64, 128)\n",
        "        self.conv_down3 = double_conv(128, 256)\n",
        "        self.conv_down4 = double_conv(256, 512)\n",
        "        self.conv_down5 = double_conv(512, 1024)\n",
        "        self.maxpool = nn.MaxPool2d(2)\n",
        "\n",
        "        # Top layer\n",
        "        self.toplayer = nn.Conv2d(1024, 256, kernel_size=1, stride=1, padding=0)  # Reduce channels\n",
        "\n",
        "        # Smooth layers\n",
        "        self.smooth1 = nn.Conv2d(256, 256, kernel_size=3, stride=1, padding=1)\n",
        "        self.smooth2 = nn.Conv2d(256, 256, kernel_size=3, stride=1, padding=1)\n",
        "        self.smooth3 = nn.Conv2d(256, 256, kernel_size=3, stride=1, padding=1)\n",
        "\n",
        "        # Lateral layers\n",
        "        self.latlayer1 = nn.Conv2d(512, 256, kernel_size=1, stride=1, padding=0)\n",
        "        self.latlayer2 = nn.Conv2d(256, 256, kernel_size=1, stride=1, padding=0)\n",
        "        self.latlayer3 = nn.Conv2d(128, 256, kernel_size=1, stride=1, padding=0)\n",
        "\n",
        "        # Segmentation block layers\n",
        "        self.seg_blocks = nn.ModuleList([\n",
        "            SegmentationBlock(pyramid_channels, segmentation_channels, n_upsamples=n_upsamples)\n",
        "            for n_upsamples in [0, 1, 2, 3]\n",
        "        ])\n",
        "\n",
        "        # Last layer\n",
        "        self.last_conv = nn.Conv2d(256, n_classes, kernel_size=1, stride=1, padding=0)\n",
        "\n",
        "    def upsample_add(self, x, y):\n",
        "        _,_,H,W = y.size()\n",
        "        upsample = nn.Upsample(size=(H,W), mode='bilinear', align_corners=True)\n",
        "\n",
        "        return upsample(x) + y\n",
        "\n",
        "    def upsample(self, x, h, w):\n",
        "        sample = nn.Upsample(size=(h, w), mode='bilinear', align_corners=True)\n",
        "        return sample(x)\n",
        "\n",
        "    def forward(self, x):\n",
        "\n",
        "        # Bottom-up\n",
        "        c1 = self.maxpool(self.conv_down1(x))\n",
        "        c2 = self.maxpool(self.conv_down2(c1))\n",
        "        c3 = self.maxpool(self.conv_down3(c2))\n",
        "        c4 = self.maxpool(self.conv_down4(c3))\n",
        "        c5 = self.maxpool(self.conv_down5(c4))\n",
        "\n",
        "        # Top-down\n",
        "        p5 = self.toplayer(c5)\n",
        "        p4 = self.upsample_add(p5, self.latlayer1(c4))\n",
        "        p3 = self.upsample_add(p4, self.latlayer2(c3))\n",
        "        p2 = self.upsample_add(p3, self.latlayer3(c2))\n",
        "\n",
        "        # Smooth\n",
        "        p4 = self.smooth1(p4)\n",
        "        p3 = self.smooth2(p3)\n",
        "        p2 = self.smooth3(p2)\n",
        "\n",
        "        # Segmentation\n",
        "        _, _, h, w = p2.size()\n",
        "        feature_pyramid = [seg_block(p) for seg_block, p in zip(self.seg_blocks, [p2, p3, p4, p5])]\n",
        "\n",
        "        out = self.upsample(self.last_conv(sum(feature_pyramid)), 4 * h, 4 * w)\n",
        "\n",
        "        out = torch.sigmoid(out)\n",
        "        return out"
      ],
      "metadata": {
        "execution": {
          "iopub.status.busy": "2024-01-10T18:08:06.661656Z",
          "iopub.execute_input": "2024-01-10T18:08:06.662012Z",
          "iopub.status.idle": "2024-01-10T18:08:06.689721Z",
          "shell.execute_reply.started": "2024-01-10T18:08:06.661955Z",
          "shell.execute_reply": "2024-01-10T18:08:06.688815Z"
        },
        "trusted": true,
        "id": "mWJSNWWFvd7Q"
      },
      "execution_count": null,
      "outputs": []
    },
    {
      "cell_type": "code",
      "source": [
        "fpn = FPN().to(device)\n",
        "output = fpn(torch.randn(1,3,256,256).to(device))\n",
        "print(output.shape)"
      ],
      "metadata": {
        "execution": {
          "iopub.status.busy": "2024-01-10T18:08:16.545432Z",
          "iopub.execute_input": "2024-01-10T18:08:16.545817Z",
          "iopub.status.idle": "2024-01-10T18:08:16.806458Z",
          "shell.execute_reply.started": "2024-01-10T18:08:16.545760Z",
          "shell.execute_reply": "2024-01-10T18:08:16.805530Z"
        },
        "trusted": true,
        "id": "F1PAvi8Wvd7R",
        "outputId": "a14825c0-1ddd-4aa5-bd34-ff0ce006757e"
      },
      "execution_count": null,
      "outputs": [
        {
          "name": "stdout",
          "text": "torch.Size([1, 1, 256, 256])\n",
          "output_type": "stream"
        }
      ]
    },
    {
      "cell_type": "markdown",
      "source": [
        "## Unet with ResNeXt50 backbone"
      ],
      "metadata": {
        "id": "Q_2OfQyvvd7R"
      }
    },
    {
      "cell_type": "code",
      "source": [
        "from torchvision.models import resnext50_32x4d\n",
        "\n",
        "class ConvRelu(nn.Module):\n",
        "    def __init__(self, in_channels, out_channels, kernel, padding):\n",
        "        super().__init__()\n",
        "\n",
        "        self.convrelu = nn.Sequential(\n",
        "            nn.Conv2d(in_channels, out_channels, kernel, padding=padding),\n",
        "            nn.ReLU(inplace=True)\n",
        "        )\n",
        "\n",
        "    def forward(self, x):\n",
        "        x = self.convrelu(x)\n",
        "        return x\n",
        "\n",
        "class DecoderBlock(nn.Module):\n",
        "    def __init__(self, in_channels, out_channels):\n",
        "        super().__init__()\n",
        "\n",
        "        self.conv1 = ConvRelu(in_channels, in_channels // 4, 1, 0)\n",
        "\n",
        "        self.deconv = nn.ConvTranspose2d(in_channels // 4, in_channels // 4, kernel_size=4,\n",
        "                                          stride=2, padding=1, output_padding=0)\n",
        "\n",
        "        self.conv2 = ConvRelu(in_channels // 4, out_channels, 1, 0)\n",
        "\n",
        "    def forward(self, x):\n",
        "        x = self.conv1(x)\n",
        "        x = self.deconv(x)\n",
        "        x = self.conv2(x)\n",
        "\n",
        "        return x"
      ],
      "metadata": {
        "execution": {
          "iopub.status.busy": "2024-01-10T18:40:39.623281Z",
          "iopub.execute_input": "2024-01-10T18:40:39.623669Z",
          "iopub.status.idle": "2024-01-10T18:40:39.635416Z",
          "shell.execute_reply.started": "2024-01-10T18:40:39.623599Z",
          "shell.execute_reply": "2024-01-10T18:40:39.634338Z"
        },
        "trusted": true,
        "id": "eBtmweIsvd7R"
      },
      "execution_count": null,
      "outputs": []
    },
    {
      "cell_type": "code",
      "source": [
        "class ResNeXtUNet(nn.Module):\n",
        "\n",
        "    def __init__(self, n_classes):\n",
        "        super().__init__()\n",
        "\n",
        "        self.base_model = resnext50_32x4d(pretrained=True)\n",
        "        self.base_layers = list(self.base_model.children())\n",
        "        filters = [4*64, 4*128, 4*256, 4*512]\n",
        "\n",
        "        self.encoder0 = nn.Sequential(*self.base_layers[:3])\n",
        "        self.encoder1 = nn.Sequential(*self.base_layers[4])\n",
        "        self.encoder2 = nn.Sequential(*self.base_layers[5])\n",
        "        self.encoder3 = nn.Sequential(*self.base_layers[6])\n",
        "        self.encoder4 = nn.Sequential(*self.base_layers[7])\n",
        "\n",
        "        self.decoder4 = DecoderBlock(filters[3], filters[2])\n",
        "        self.decoder3 = DecoderBlock(filters[2], filters[1])\n",
        "        self.decoder2 = DecoderBlock(filters[1], filters[0])\n",
        "        self.decoder1 = DecoderBlock(filters[0], filters[0])\n",
        "\n",
        "        self.last_conv0 = ConvRelu(256, 128, 3, 1)\n",
        "        self.last_conv1 = nn.Conv2d(128, n_classes, 3, padding=1)\n",
        "\n",
        "    def forward(self, x):\n",
        "        x = self.encoder0(x)\n",
        "        e1 = self.encoder1(x)\n",
        "        e2 = self.encoder2(e1)\n",
        "        e3 = self.encoder3(e2)\n",
        "        e4 = self.encoder4(e3)\n",
        "\n",
        "        d4 = self.decoder4(e4) + e3\n",
        "        d3 = self.decoder3(d4) + e2\n",
        "        d2 = self.decoder2(d3) + e1\n",
        "        d1 = self.decoder1(d2)\n",
        "        #print(d1.shape)\n",
        "\n",
        "        # final classifier\n",
        "        out = self.last_conv0(d1)\n",
        "        out = self.last_conv1(out)\n",
        "        out = torch.sigmoid(out)\n",
        "\n",
        "        return out"
      ],
      "metadata": {
        "execution": {
          "iopub.status.busy": "2024-01-10T18:40:42.554450Z",
          "iopub.execute_input": "2024-01-10T18:40:42.554856Z",
          "iopub.status.idle": "2024-01-10T18:40:42.571503Z",
          "shell.execute_reply.started": "2024-01-10T18:40:42.554803Z",
          "shell.execute_reply": "2024-01-10T18:40:42.570731Z"
        },
        "trusted": true,
        "id": "Chj2YsCvvd7R"
      },
      "execution_count": null,
      "outputs": []
    },
    {
      "cell_type": "code",
      "source": [
        "rx50 = ResNeXtUNet(n_classes=1).to(device)\n",
        "output = rx50(torch.randn(1,3,256,256).to(device))\n",
        "print(output.shape)"
      ],
      "metadata": {
        "execution": {
          "iopub.status.busy": "2024-01-10T18:40:44.645654Z",
          "iopub.execute_input": "2024-01-10T18:40:44.646037Z",
          "iopub.status.idle": "2024-01-10T18:40:46.632584Z",
          "shell.execute_reply.started": "2024-01-10T18:40:44.645979Z",
          "shell.execute_reply": "2024-01-10T18:40:46.631845Z"
        },
        "trusted": true,
        "colab": {
          "referenced_widgets": [
            "1f334498b1f04b688620127d9ff6ddf9"
          ]
        },
        "id": "cfbAyNOJvd7R",
        "outputId": "cd60f072-53cc-4d13-d451-9d8e51aae4b7"
      },
      "execution_count": null,
      "outputs": [
        {
          "name": "stderr",
          "text": "Downloading: \"https://download.pytorch.org/models/resnext50_32x4d-7cdf4587.pth\" to /root/.cache/torch/checkpoints/resnext50_32x4d-7cdf4587.pth\n",
          "output_type": "stream"
        },
        {
          "output_type": "display_data",
          "data": {
            "text/plain": "HBox(children=(FloatProgress(value=0.0, max=100441675.0), HTML(value='')))",
            "application/vnd.jupyter.widget-view+json": {
              "version_major": 2,
              "version_minor": 0,
              "model_id": "1f334498b1f04b688620127d9ff6ddf9"
            }
          },
          "metadata": {}
        },
        {
          "name": "stdout",
          "text": "\ntorch.Size([1, 1, 256, 256])\n",
          "output_type": "stream"
        }
      ]
    },
    {
      "cell_type": "markdown",
      "source": [
        "# Segmentation Quality Metric"
      ],
      "metadata": {
        "id": "qHEozv2zvd7S"
      }
    },
    {
      "cell_type": "code",
      "source": [
        "def dice_coef_metric(inputs, target):\n",
        "    intersection = 2.0 * (target * inputs).sum()\n",
        "    union = target.sum() + inputs.sum()\n",
        "    if target.sum() == 0 and inputs.sum() == 0:\n",
        "        return 1.0\n",
        "\n",
        "    return intersection / union"
      ],
      "metadata": {
        "execution": {
          "iopub.status.busy": "2024-01-10T18:10:01.896241Z",
          "iopub.execute_input": "2024-01-10T18:10:01.896612Z",
          "iopub.status.idle": "2024-01-10T18:10:01.902388Z",
          "shell.execute_reply.started": "2024-01-10T18:10:01.896565Z",
          "shell.execute_reply": "2024-01-10T18:10:01.901430Z"
        },
        "trusted": true,
        "id": "OJHUd7xCvd7S"
      },
      "execution_count": null,
      "outputs": []
    },
    {
      "cell_type": "markdown",
      "source": [
        "# Segmentation Loss"
      ],
      "metadata": {
        "id": "pihnHZzBvd7S"
      }
    },
    {
      "cell_type": "code",
      "source": [
        "def dice_coef_loss(inputs, target):\n",
        "    smooth = 1.0\n",
        "    intersection = 2.0 * ((target * inputs).sum()) + smooth\n",
        "    union = target.sum() + inputs.sum() + smooth\n",
        "\n",
        "    return 1 - (intersection / union)\n",
        "\n",
        "def bce_dice_loss(inputs, target):\n",
        "    dicescore = dice_coef_loss(inputs, target)\n",
        "    bcescore = nn.BCELoss()\n",
        "    bceloss = bcescore(inputs, target)\n",
        "\n",
        "    return bceloss + dicescore"
      ],
      "metadata": {
        "execution": {
          "iopub.status.busy": "2024-01-10T18:10:03.382679Z",
          "iopub.execute_input": "2024-01-10T18:10:03.383032Z",
          "iopub.status.idle": "2024-01-10T18:10:03.389656Z",
          "shell.execute_reply.started": "2024-01-10T18:10:03.382990Z",
          "shell.execute_reply": "2024-01-10T18:10:03.388766Z"
        },
        "trusted": true,
        "id": "PSUVWkmJvd7S"
      },
      "execution_count": null,
      "outputs": []
    },
    {
      "cell_type": "markdown",
      "source": [
        "# Train Models"
      ],
      "metadata": {
        "id": "7KmOhyeSvd7T"
      }
    },
    {
      "cell_type": "code",
      "source": [
        "def train_model(model_name, model, train_loader, val_loader, train_loss, optimizer, lr_scheduler, num_epochs):\n",
        "\n",
        "    print(model_name)\n",
        "    loss_history = []\n",
        "    train_history = []\n",
        "    val_history = []\n",
        "\n",
        "    for epoch in tqdm(range(num_epochs)):\n",
        "        model.train()\n",
        "\n",
        "        losses = []\n",
        "        train_iou = []\n",
        "\n",
        "        if lr_scheduler:\n",
        "\n",
        "            warmup_factor = 1.0 / 100\n",
        "            warmup_iters = min(100, len(train_loader) - 1)\n",
        "            lr_scheduler = warmup_lr_scheduler(optimizer, warmup_iters, warmup_factor)\n",
        "\n",
        "\n",
        "        for i_step, (data, target) in enumerate(train_loader):\n",
        "            data = data.to(device)\n",
        "            target = target.to(device)\n",
        "\n",
        "            outputs = model(data)\n",
        "\n",
        "            out_cut = np.copy(outputs.data.cpu().numpy())\n",
        "            out_cut[np.nonzero(out_cut < 0.5)] = 0.0\n",
        "            out_cut[np.nonzero(out_cut >= 0.5)] = 1.0\n",
        "\n",
        "            train_dice = dice_coef_metric(out_cut, target.data.cpu().numpy())\n",
        "\n",
        "            loss = train_loss(outputs, target)\n",
        "\n",
        "            losses.append(loss.item())\n",
        "            train_iou.append(train_dice)\n",
        "\n",
        "            optimizer.zero_grad()\n",
        "            loss.backward()\n",
        "            optimizer.step()\n",
        "\n",
        "            if lr_scheduler:\n",
        "                lr_scheduler.step()\n",
        "\n",
        "        #torch.save(model.state_dict(), f'{model_name}_{str(epoch)}_epoch.pt')\n",
        "        val_mean_iou = compute_iou(model, val_loader)\n",
        "\n",
        "        loss_history.append(np.array(losses).mean())\n",
        "        train_history.append(np.array(train_iou).mean())\n",
        "        val_history.append(val_mean_iou)\n",
        "\n",
        "        print(\"Epoch [%d]\" % (epoch))\n",
        "        print(\"Mean loss on train:\", np.array(losses).mean(),\n",
        "              \"\\nMean DICE on train:\", np.array(train_iou).mean(),\n",
        "              \"\\nMean DICE on validation:\", val_mean_iou)\n",
        "\n",
        "    return loss_history, train_history, val_history"
      ],
      "metadata": {
        "execution": {
          "iopub.status.busy": "2024-01-10T18:17:51.889226Z",
          "iopub.execute_input": "2024-01-10T18:17:51.889637Z",
          "iopub.status.idle": "2024-01-10T18:17:51.911628Z",
          "shell.execute_reply.started": "2024-01-10T18:17:51.889560Z",
          "shell.execute_reply": "2024-01-10T18:17:51.910722Z"
        },
        "trusted": true,
        "id": "yskX_WVmvd7T"
      },
      "execution_count": null,
      "outputs": []
    },
    {
      "cell_type": "code",
      "source": [
        "def compute_iou(model, loader, threshold=0.3):\n",
        "    \"\"\"\n",
        "    Computes accuracy on the dataset wrapped in a loader\n",
        "\n",
        "    Returns: accuracy as a float value between 0 and 1\n",
        "    \"\"\"\n",
        "    #model.eval()\n",
        "    valloss = 0\n",
        "\n",
        "    with torch.no_grad():\n",
        "\n",
        "        for i_step, (data, target) in enumerate(loader):\n",
        "\n",
        "            data = data.to(device)\n",
        "            target = target.to(device)\n",
        "            #prediction = model(x_gpu)\n",
        "\n",
        "            outputs = model(data)\n",
        "           # print(\"val_output:\", outputs.shape)\n",
        "\n",
        "            out_cut = np.copy(outputs.data.cpu().numpy())\n",
        "            out_cut[np.nonzero(out_cut < threshold)] = 0.0\n",
        "            out_cut[np.nonzero(out_cut >= threshold)] = 1.0\n",
        "\n",
        "            picloss = dice_coef_metric(out_cut, target.data.cpu().numpy())\n",
        "            valloss += picloss\n",
        "\n",
        "        #print(\"Threshold:  \" + str(threshold) + \"  Validation DICE score:\", valloss / i_step)\n",
        "\n",
        "    return valloss / i_step"
      ],
      "metadata": {
        "id": "BTbhJZXMvd7T"
      },
      "execution_count": null,
      "outputs": []
    },
    {
      "cell_type": "code",
      "source": [
        "# Optimizers\n",
        "unet_optimizer = torch.optim.Adamax(unet.parameters(), lr=1e-3)\n",
        "fpn_optimizer = torch.optim.Adamax(fpn.parameters(), lr=1e-3)\n",
        "rx50_optimizer = torch.optim.Adam(rx50.parameters(), lr=5e-4)\n",
        "\n",
        "# lr_scheduler\n",
        "def warmup_lr_scheduler(optimizer, warmup_iters, warmup_factor):\n",
        "    def f(x):\n",
        "        if x >= warmup_iters:\n",
        "            return 1\n",
        "        alpha = float(x) / warmup_iters\n",
        "        return warmup_factor * (1 - alpha) + alpha\n",
        "\n",
        "    return torch.optim.lr_scheduler.LambdaLR(optimizer, f)"
      ],
      "metadata": {
        "execution": {
          "iopub.status.busy": "2024-01-10T18:41:20.633237Z",
          "iopub.execute_input": "2024-01-10T18:41:20.633635Z",
          "iopub.status.idle": "2024-01-10T18:41:20.644178Z",
          "shell.execute_reply.started": "2024-01-10T18:41:20.633559Z",
          "shell.execute_reply": "2024-01-10T18:41:20.643299Z"
        },
        "trusted": true,
        "id": "PwzZjNR1vd7T"
      },
      "execution_count": null,
      "outputs": []
    },
    {
      "cell_type": "code",
      "source": [
        "%%time\n",
        "num_ep = 10\n",
        "# Train UNet\n",
        "unet_lh, unet_th, unet_vh = train_model(\"UNet\", unet, train_dataloader, val_dataloader, bce_dice_loss, unet_optimizer, False, num_ep)"
      ],
      "metadata": {
        "execution": {
          "iopub.status.busy": "2024-01-10T18:18:42.321381Z",
          "iopub.execute_input": "2024-01-10T18:18:42.321742Z",
          "iopub.status.idle": "2024-01-10T18:23:06.748058Z",
          "shell.execute_reply.started": "2024-01-10T18:18:42.321695Z",
          "shell.execute_reply": "2024-01-10T18:23:06.746863Z"
        },
        "trusted": true,
        "id": "dmMUxI64vd7U",
        "outputId": "cb850a9a-9d28-4982-9ba0-1a9c084d985a"
      },
      "execution_count": null,
      "outputs": [
        {
          "name": "stderr",
          "text": "\n  0%|          | 0/10 [00:00<?, ?it/s]\u001b[A",
          "output_type": "stream"
        },
        {
          "name": "stdout",
          "text": "UNet\n",
          "output_type": "stream"
        },
        {
          "name": "stderr",
          "text": "\n 10%|█         | 1/10 [00:26<03:57, 26.44s/it]\u001b[A",
          "output_type": "stream"
        },
        {
          "name": "stdout",
          "text": "Epoch [0]\nMean loss on train: 1.2831103154297532 \nMean DICE on train: 0.0 \nMean DICE on validation: 0.06666666666666667\n",
          "output_type": "stream"
        },
        {
          "name": "stderr",
          "text": "\n 20%|██        | 2/10 [00:52<03:31, 26.44s/it]\u001b[A",
          "output_type": "stream"
        },
        {
          "name": "stdout",
          "text": "Epoch [1]\nMean loss on train: 1.2847147327044914 \nMean DICE on train: 0.0 \nMean DICE on validation: 0.0\n",
          "output_type": "stream"
        },
        {
          "name": "stderr",
          "text": "\n 30%|███       | 3/10 [01:19<03:05, 26.44s/it]\u001b[A",
          "output_type": "stream"
        },
        {
          "name": "stdout",
          "text": "Epoch [2]\nMean loss on train: 1.2836380302906036 \nMean DICE on train: 0.0 \nMean DICE on validation: 0.06666666666666667\n",
          "output_type": "stream"
        },
        {
          "name": "stderr",
          "text": "\n 40%|████      | 4/10 [01:45<02:38, 26.43s/it]\u001b[A",
          "output_type": "stream"
        },
        {
          "name": "stdout",
          "text": "Epoch [3]\nMean loss on train: 1.2832378488162468 \nMean DICE on train: 0.0 \nMean DICE on validation: 0.0\n",
          "output_type": "stream"
        },
        {
          "name": "stderr",
          "text": "\n 50%|█████     | 5/10 [02:12<02:12, 26.44s/it]\u001b[A",
          "output_type": "stream"
        },
        {
          "name": "stdout",
          "text": "Epoch [4]\nMean loss on train: 1.28286327061982 \nMean DICE on train: 0.0 \nMean DICE on validation: 0.06666666666666667\n",
          "output_type": "stream"
        },
        {
          "name": "stderr",
          "text": "\n 60%|██████    | 6/10 [02:38<01:45, 26.44s/it]\u001b[A",
          "output_type": "stream"
        },
        {
          "name": "stdout",
          "text": "Epoch [5]\nMean loss on train: 1.2839909093133335 \nMean DICE on train: 0.0 \nMean DICE on validation: 0.0\n",
          "output_type": "stream"
        },
        {
          "name": "stderr",
          "text": "\n 70%|███████   | 7/10 [03:05<01:19, 26.45s/it]\u001b[A",
          "output_type": "stream"
        },
        {
          "name": "stdout",
          "text": "Epoch [6]\nMean loss on train: 1.2832467453233127 \nMean DICE on train: 0.0 \nMean DICE on validation: 0.0\n",
          "output_type": "stream"
        },
        {
          "name": "stderr",
          "text": "\n 80%|████████  | 8/10 [03:31<00:52, 26.44s/it]\u001b[A",
          "output_type": "stream"
        },
        {
          "name": "stdout",
          "text": "Epoch [7]\nMean loss on train: 1.283765342728845 \nMean DICE on train: 0.0 \nMean DICE on validation: 0.0\n",
          "output_type": "stream"
        },
        {
          "name": "stderr",
          "text": "\n 90%|█████████ | 9/10 [03:57<00:26, 26.44s/it]\u001b[A",
          "output_type": "stream"
        },
        {
          "name": "stdout",
          "text": "Epoch [8]\nMean loss on train: 1.2836179794936344 \nMean DICE on train: 0.0 \nMean DICE on validation: 0.0\n",
          "output_type": "stream"
        },
        {
          "name": "stderr",
          "text": "\n100%|██████████| 10/10 [04:24<00:00, 26.44s/it]\u001b[A",
          "output_type": "stream"
        },
        {
          "name": "stdout",
          "text": "Epoch [9]\nMean loss on train: 1.2856271801323726 \nMean DICE on train: 0.0 \nMean DICE on validation: 0.0\nCPU times: user 4min 14s, sys: 5.38 s, total: 4min 19s\nWall time: 4min 24s\n",
          "output_type": "stream"
        },
        {
          "name": "stderr",
          "text": "\n",
          "output_type": "stream"
        }
      ]
    },
    {
      "cell_type": "code",
      "source": [
        "# Train FPN\n",
        "num_ep = 10\n",
        "fpn_lh, fpn_th, fpn_vh = train_model(\"FPN\", fpn, train_dataloader, val_dataloader, bce_dice_loss, fpn_optimizer, False, num_ep)"
      ],
      "metadata": {
        "execution": {
          "iopub.status.busy": "2024-01-10T18:24:10.120810Z",
          "iopub.execute_input": "2024-01-10T18:24:10.121190Z",
          "iopub.status.idle": "2024-01-10T18:27:36.813547Z",
          "shell.execute_reply.started": "2024-01-10T18:24:10.121141Z",
          "shell.execute_reply": "2024-01-10T18:27:36.812532Z"
        },
        "trusted": true,
        "id": "lPxcgrULvd7U",
        "outputId": "99f8ebbd-1173-46a6-bb60-862d2507b70e"
      },
      "execution_count": null,
      "outputs": [
        {
          "name": "stderr",
          "text": "\n  0%|          | 0/10 [00:00<?, ?it/s]\u001b[A",
          "output_type": "stream"
        },
        {
          "name": "stdout",
          "text": "FPN\n",
          "output_type": "stream"
        },
        {
          "name": "stderr",
          "text": "\n 10%|█         | 1/10 [00:20<03:07, 20.79s/it]\u001b[A",
          "output_type": "stream"
        },
        {
          "name": "stdout",
          "text": "Epoch [0]\nMean loss on train: 0.8996554150663573 \nMean DICE on train: 0.17544601656784614 \nMean DICE on validation: 0.5227234677169678\n",
          "output_type": "stream"
        },
        {
          "name": "stderr",
          "text": "\n 20%|██        | 2/10 [00:41<02:45, 20.75s/it]\u001b[A",
          "output_type": "stream"
        },
        {
          "name": "stdout",
          "text": "Epoch [1]\nMean loss on train: 0.5972809927730724 \nMean DICE on train: 0.4928035264970084 \nMean DICE on validation: 0.49367285685307605\n",
          "output_type": "stream"
        },
        {
          "name": "stderr",
          "text": "\n 30%|███       | 3/10 [01:02<02:25, 20.72s/it]\u001b[A",
          "output_type": "stream"
        },
        {
          "name": "stdout",
          "text": "Epoch [2]\nMean loss on train: 0.501555867236236 \nMean DICE on train: 0.5673845263295297 \nMean DICE on validation: 0.661333631435946\n",
          "output_type": "stream"
        },
        {
          "name": "stderr",
          "text": "\n 40%|████      | 4/10 [01:22<02:04, 20.71s/it]\u001b[A",
          "output_type": "stream"
        },
        {
          "name": "stdout",
          "text": "Epoch [3]\nMean loss on train: 0.4581555934815571 \nMean DICE on train: 0.6057439389544859 \nMean DICE on validation: 0.618567781701873\n",
          "output_type": "stream"
        },
        {
          "name": "stderr",
          "text": "\n 50%|█████     | 5/10 [01:43<01:43, 20.71s/it]\u001b[A",
          "output_type": "stream"
        },
        {
          "name": "stdout",
          "text": "Epoch [4]\nMean loss on train: 0.43871350676335136 \nMean DICE on train: 0.6168034112972486 \nMean DICE on validation: 0.6483345178352402\n",
          "output_type": "stream"
        },
        {
          "name": "stderr",
          "text": "\n 60%|██████    | 6/10 [02:04<01:22, 20.68s/it]\u001b[A",
          "output_type": "stream"
        },
        {
          "name": "stdout",
          "text": "Epoch [5]\nMean loss on train: 0.4092339213038313 \nMean DICE on train: 0.645263276020328 \nMean DICE on validation: 0.6400832097417717\n",
          "output_type": "stream"
        },
        {
          "name": "stderr",
          "text": "\n 70%|███████   | 7/10 [02:24<01:02, 20.67s/it]\u001b[A",
          "output_type": "stream"
        },
        {
          "name": "stdout",
          "text": "Epoch [6]\nMean loss on train: 0.4086901629022483 \nMean DICE on train: 0.6429484753381467 \nMean DICE on validation: 0.6870649351456131\n",
          "output_type": "stream"
        },
        {
          "name": "stderr",
          "text": "\n 80%|████████  | 8/10 [02:45<00:41, 20.66s/it]\u001b[A",
          "output_type": "stream"
        },
        {
          "name": "stdout",
          "text": "Epoch [7]\nMean loss on train: 0.40725846832682344 \nMean DICE on train: 0.6414561591236508 \nMean DICE on validation: 0.7191509662265632\n",
          "output_type": "stream"
        },
        {
          "name": "stderr",
          "text": "\n 90%|█████████ | 9/10 [03:05<00:20, 20.63s/it]\u001b[A",
          "output_type": "stream"
        },
        {
          "name": "stdout",
          "text": "Epoch [8]\nMean loss on train: 0.3752473058371708 \nMean DICE on train: 0.6727740382449625 \nMean DICE on validation: 0.7037061216047735\n",
          "output_type": "stream"
        },
        {
          "name": "stderr",
          "text": "\n100%|██████████| 10/10 [03:26<00:00, 20.67s/it]\u001b[A",
          "output_type": "stream"
        },
        {
          "name": "stdout",
          "text": "Epoch [9]\nMean loss on train: 0.36476130218341435 \nMean DICE on train: 0.6812218097143663 \nMean DICE on validation: 0.7494544150043855\n",
          "output_type": "stream"
        },
        {
          "name": "stderr",
          "text": "\n",
          "output_type": "stream"
        }
      ]
    },
    {
      "cell_type": "code",
      "source": [
        "# Train ResNeXt50\n",
        "num_ep = 10\n",
        "rx50_lh, rx50_th, rx50_vh = train_model(\"ResNeXt50\", rx50, train_dataloader, val_dataloader, bce_dice_loss, rx50_optimizer, False, num_ep)"
      ],
      "metadata": {
        "execution": {
          "iopub.status.busy": "2024-01-10T18:41:42.875440Z",
          "iopub.execute_input": "2024-01-10T18:41:42.875848Z",
          "iopub.status.idle": "2024-01-10T18:53:33.874766Z",
          "shell.execute_reply.started": "2024-01-10T18:41:42.875785Z",
          "shell.execute_reply": "2024-01-10T18:53:33.873851Z"
        },
        "trusted": true,
        "id": "4wGzidT9vd7U",
        "outputId": "e2b8e5b4-3f05-4ad2-c8a8-fc55dcdea057"
      },
      "execution_count": null,
      "outputs": [
        {
          "name": "stderr",
          "text": "\n  0%|          | 0/10 [00:00<?, ?it/s]\u001b[A",
          "output_type": "stream"
        },
        {
          "name": "stdout",
          "text": "ResNeXt50\n",
          "output_type": "stream"
        },
        {
          "name": "stderr",
          "text": "\n 10%|█         | 1/10 [01:11<10:39, 71.07s/it]\u001b[A",
          "output_type": "stream"
        },
        {
          "name": "stdout",
          "text": "Epoch [0]\nMean loss on train: 0.6310136460795485 \nMean DICE on train: 0.4371779164880002 \nMean DICE on validation: 0.766964206533714\n",
          "output_type": "stream"
        },
        {
          "name": "stderr",
          "text": "\n 20%|██        | 2/10 [02:22<09:28, 71.07s/it]\u001b[A",
          "output_type": "stream"
        },
        {
          "name": "stdout",
          "text": "Epoch [1]\nMean loss on train: 0.2682155792055459 \nMean DICE on train: 0.7717537961238229 \nMean DICE on validation: 0.834163902294076\n",
          "output_type": "stream"
        },
        {
          "name": "stderr",
          "text": "\n 30%|███       | 3/10 [03:33<08:17, 71.04s/it]\u001b[A",
          "output_type": "stream"
        },
        {
          "name": "stdout",
          "text": "Epoch [2]\nMean loss on train: 0.223836789293022 \nMean DICE on train: 0.8060623522657759 \nMean DICE on validation: 0.8962093193578469\n",
          "output_type": "stream"
        },
        {
          "name": "stderr",
          "text": "\n 40%|████      | 4/10 [04:44<07:06, 71.02s/it]\u001b[A",
          "output_type": "stream"
        },
        {
          "name": "stdout",
          "text": "Epoch [3]\nMean loss on train: 0.19612544678665442 \nMean DICE on train: 0.8288655759062329 \nMean DICE on validation: 0.7543153439030587\n",
          "output_type": "stream"
        },
        {
          "name": "stderr",
          "text": "\n 50%|█████     | 5/10 [05:55<05:55, 71.12s/it]\u001b[A",
          "output_type": "stream"
        },
        {
          "name": "stdout",
          "text": "Epoch [4]\nMean loss on train: 0.273857852122907 \nMean DICE on train: 0.7624726451458299 \nMean DICE on validation: 0.8988056461062931\n",
          "output_type": "stream"
        },
        {
          "name": "stderr",
          "text": "\n 60%|██████    | 6/10 [07:06<04:44, 71.12s/it]\u001b[A",
          "output_type": "stream"
        },
        {
          "name": "stdout",
          "text": "Epoch [5]\nMean loss on train: 0.20376736966186557 \nMean DICE on train: 0.8220328382922123 \nMean DICE on validation: 0.8923209760682619\n",
          "output_type": "stream"
        },
        {
          "name": "stderr",
          "text": "\n 70%|███████   | 7/10 [08:17<03:33, 71.11s/it]\u001b[A",
          "output_type": "stream"
        },
        {
          "name": "stdout",
          "text": "Epoch [6]\nMean loss on train: 0.1742384308499509 \nMean DICE on train: 0.8467685573090523 \nMean DICE on validation: 0.8890274509733793\n",
          "output_type": "stream"
        },
        {
          "name": "stderr",
          "text": "\n 80%|████████  | 8/10 [09:28<02:22, 71.16s/it]\u001b[A",
          "output_type": "stream"
        },
        {
          "name": "stdout",
          "text": "Epoch [7]\nMean loss on train: 0.1637195113018669 \nMean DICE on train: 0.8546868684663235 \nMean DICE on validation: 0.9226899728291537\n",
          "output_type": "stream"
        },
        {
          "name": "stderr",
          "text": "\n 90%|█████████ | 9/10 [10:39<01:11, 71.13s/it]\u001b[A",
          "output_type": "stream"
        },
        {
          "name": "stdout",
          "text": "Epoch [8]\nMean loss on train: 0.15788644520116263 \nMean DICE on train: 0.8603381342724175 \nMean DICE on validation: 0.9175797599451819\n",
          "output_type": "stream"
        },
        {
          "name": "stderr",
          "text": "\n100%|██████████| 10/10 [11:50<00:00, 71.10s/it]\u001b[A",
          "output_type": "stream"
        },
        {
          "name": "stdout",
          "text": "Epoch [9]\nMean loss on train: 0.16348488070070744 \nMean DICE on train: 0.8564389820822281 \nMean DICE on validation: 0.8986915061899837\n",
          "output_type": "stream"
        },
        {
          "name": "stderr",
          "text": "\n",
          "output_type": "stream"
        }
      ]
    },
    {
      "cell_type": "markdown",
      "source": [
        "## График обучения"
      ],
      "metadata": {
        "id": "W0pbMQc2vd7U"
      }
    },
    {
      "cell_type": "code",
      "source": [
        "def plot_model_history(model_name,\n",
        "                        train_history, val_history,\n",
        "                        num_epochs):\n",
        "\n",
        "    x = np.arange(num_epochs)\n",
        "\n",
        "    fig = plt.figure(figsize=(10, 6))\n",
        "    plt.plot(x, train_history, label='train dice', lw=3, c=\"springgreen\")\n",
        "    plt.plot(x, val_history, label='validation dice', lw=3, c=\"deeppink\")\n",
        "\n",
        "    plt.title(f\"{model_name}\", fontsize=15)\n",
        "    plt.legend(fontsize=12)\n",
        "    plt.xlabel(\"Epoch\", fontsize=15)\n",
        "    plt.ylabel(\"DICE\", fontsize=15)\n",
        "\n",
        "    fn = str(int(time.time())) + \".png\"\n",
        "    plt.show()\n",
        "    #plt.savefig(fn, bbox_inches='tight', pad_inches=0.2)\n",
        "    #plt.close()\n",
        ""
      ],
      "metadata": {
        "execution": {
          "iopub.status.busy": "2024-01-10T18:27:36.815816Z",
          "iopub.execute_input": "2024-01-10T18:27:36.816111Z",
          "iopub.status.idle": "2024-01-10T18:27:36.825081Z",
          "shell.execute_reply.started": "2024-01-10T18:27:36.816066Z",
          "shell.execute_reply": "2024-01-10T18:27:36.824242Z"
        },
        "trusted": true,
        "id": "8fGnuY_lvd7f"
      },
      "execution_count": null,
      "outputs": []
    },
    {
      "cell_type": "code",
      "source": [
        "plot_model_history(\"FPN\", fpn_th, fpn_vh, 10)"
      ],
      "metadata": {
        "execution": {
          "iopub.status.busy": "2024-01-10T18:28:00.795254Z",
          "iopub.execute_input": "2024-01-10T18:28:00.795603Z",
          "iopub.status.idle": "2024-01-10T18:28:00.979266Z",
          "shell.execute_reply.started": "2024-01-10T18:28:00.795556Z",
          "shell.execute_reply": "2024-01-10T18:28:00.978452Z"
        },
        "trusted": true,
        "id": "jL4zb4qfvd7f",
        "outputId": "c857b616-b52a-46b7-ea86-2206c1451dd8"
      },
      "execution_count": null,
      "outputs": [
        {
          "output_type": "display_data",
          "data": {
            "text/plain": "<Figure size 720x432 with 1 Axes>",
            "image/png": "[encoded data removed]"
          },
          "metadata": {}
        }
      ]
    },
    {
      "cell_type": "code",
      "source": [
        "plot_model_history(\"UNet with ResNeXt50 backbone\", rx50_th, rx50_vh, num_ep)"
      ],
      "metadata": {
        "execution": {
          "iopub.status.busy": "2024-01-10T18:54:46.792562Z",
          "iopub.execute_input": "2024-01-10T18:54:46.792924Z",
          "iopub.status.idle": "2024-01-10T18:54:47.100178Z",
          "shell.execute_reply.started": "2024-01-10T18:54:46.792877Z",
          "shell.execute_reply": "2024-01-10T18:54:47.099381Z"
        },
        "trusted": true,
        "id": "2nzSQGJ0vd7g",
        "outputId": "9abf7e39-45a6-47b6-b007-841b00eed63e"
      },
      "execution_count": null,
      "outputs": [
        {
          "output_type": "display_data",
          "data": {
            "text/plain": "<Figure size 720x432 with 1 Axes>",
            "image/png": "[encoded data removed]"
          },
          "metadata": {}
        }
      ]
    },
    {
      "cell_type": "markdown",
      "source": [
        "## Test IoU"
      ],
      "metadata": {
        "id": "etYwp5m9vd7g"
      }
    },
    {
      "cell_type": "code",
      "source": [
        "test_iou = compute_iou(fpn, test_dataloader)\n",
        "print(f\"\"\"FPN\\nMean IoU of the test images - {np.around(test_iou, 2)*100}%\"\"\")\n",
        "\n",
        "test_iou = compute_iou(rx50, test_dataloader)\n",
        "print(f\"\"\"ResNext50\\nMean IoU of the test images - {np.around(test_iou, 2)*100}%\"\"\")"
      ],
      "metadata": {
        "execution": {
          "iopub.status.busy": "2024-01-10T18:55:23.118903Z",
          "iopub.execute_input": "2024-01-10T18:55:23.119453Z",
          "iopub.status.idle": "2024-01-10T18:55:29.433145Z",
          "shell.execute_reply.started": "2024-01-10T18:55:23.119231Z",
          "shell.execute_reply": "2024-01-10T18:55:29.432177Z"
        },
        "trusted": true,
        "id": "E_Xqe5rfvd7g",
        "outputId": "bb4fc435-db5b-4fb9-8d73-bf44b4145118"
      },
      "execution_count": null,
      "outputs": [
        {
          "name": "stdout",
          "text": "FPN\nMean IoU of the test images - 70.0%\nResNext50\nMean IoU of the test images - 87.0%\n",
          "output_type": "stream"
        }
      ]
    },
    {
      "cell_type": "markdown",
      "source": [
        "### Пример"
      ],
      "metadata": {
        "id": "aHew6bcOvd7g"
      }
    },
    {
      "cell_type": "code",
      "source": [
        "# image\n",
        "test_sample = test_df[test_df[\"diagnosis\"] == 1].sample(1).values[0]\n",
        "image = cv2.resize(cv2.imread(test_sample[1]), (128, 128))\n",
        "\n",
        "#mask\n",
        "mask = cv2.resize(cv2.imread(test_sample[2]), (128, 128))\n",
        "\n",
        "# pred\n",
        "pred = torch.tensor(image.astype(np.float32) / 255.).unsqueeze(0).permute(0,3,1,2)\n",
        "pred = rx50(pred.to(device))\n",
        "pred = pred.detach().cpu().numpy()[0,0,:,:]\n",
        "\n",
        "# pred with tshd\n",
        "pred_t = np.copy(pred)\n",
        "pred_t[np.nonzero(pred_t < 0.3)] = 0.0\n",
        "pred_t[np.nonzero(pred_t >= 0.3)] = 255.#1.0\n",
        "pred_t = pred_t.astype(\"uint8\")\n",
        "\n",
        "# plot\n",
        "fig, ax = plt.subplots(nrows=2,  ncols=2, figsize=(10, 10))\n",
        "\n",
        "ax[0, 0].imshow(image)\n",
        "ax[0, 0].set_title(\"image\")\n",
        "ax[0, 1].imshow(mask)\n",
        "ax[0, 1].set_title(\"mask\")\n",
        "ax[1, 0].imshow(pred)\n",
        "ax[1, 0].set_title(\"prediction\")\n",
        "ax[1, 1].imshow(pred_t)\n",
        "ax[1, 1].set_title(\"prediction with threshold\")\n",
        "plt.show()"
      ],
      "metadata": {
        "execution": {
          "iopub.status.busy": "2024-01-10T18:55:36.528668Z",
          "iopub.execute_input": "2024-01-10T18:55:36.529087Z",
          "iopub.status.idle": "2024-01-10T18:55:37.129173Z",
          "shell.execute_reply.started": "2024-01-10T18:55:36.529015Z",
          "shell.execute_reply": "2024-01-10T18:55:37.128295Z"
        },
        "trusted": true,
        "id": "rff76Nmlvd7h",
        "outputId": "e8b05c59-4e21-466a-ac41-712b82ce82e3"
      },
      "execution_count": null,
      "outputs": [
        {
          "output_type": "display_data",
          "data": {
            "text/plain": "<Figure size 720x720 with 4 Axes>",
            "image/png": "[encoded data removed]"
          },
          "metadata": {}
        }
      ]
    },
    {
      "cell_type": "code",
      "source": [],
      "metadata": {
        "trusted": true,
        "id": "TZC_pUkVvd7h"
      },
      "execution_count": null,
      "outputs": []
    },
    {
      "cell_type": "code",
      "source": [],
      "metadata": {
        "trusted": true,
        "id": "ZSDXXeLMvd7h"
      },
      "execution_count": null,
      "outputs": []
    }
  ]
}